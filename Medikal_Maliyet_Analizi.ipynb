{
 "cells": [
  {
   "cell_type": "markdown",
   "metadata": {
    "id": "cvDLYo1JZ27E"
   },
   "source": [
    "# Medikal Maliyet Analizi"
   ]
  },
  {
   "cell_type": "markdown",
   "metadata": {
    "id": "fWrRgwEFGQGT"
   },
   "source": [
    "## 1- Gerekli Kütüphanelerin Eklenmesi"
   ]
  },
  {
   "cell_type": "code",
   "execution_count": 1,
   "metadata": {
    "id": "jEd93yaxGYuf"
   },
   "outputs": [],
   "source": [
    "#data manipulasyonu ve keşifçi veri analizi için kütüphaneler eklendi\n",
    "import numpy as np\n",
    "import pandas as pd\n",
    "#data görselleştirilmesi için kütüphaneler eklendi\n",
    "import seaborn as sns\n",
    "import matplotlib.pyplot as plt\n",
    "#veri ön işleme\n",
    "from sklearn.model_selection import train_test_split\n",
    "from sklearn.preprocessing import StandardScaler,MinMaxScaler\n",
    "#makine öğrenmesi modelleri uygulanması için modeller eklendi\n",
    "from sklearn.linear_model import LinearRegression\n",
    "from sklearn.linear_model import Lasso,Ridge,ElasticNet\n",
    "from sklearn.svm import SVR\n",
    "from sklearn.tree import DecisionTreeRegressor\n",
    "from sklearn.ensemble import RandomForestRegressor\n",
    "#model değerlendirme\n",
    "from sklearn.model_selection import cross_val_score,GridSearchCV"
   ]
  },
  {
   "cell_type": "code",
   "execution_count": 2,
   "metadata": {
    "id": "J1NtAWgtHt-v"
   },
   "outputs": [],
   "source": [
    "#data dosyasının yüklenmesi\n",
    "data = pd.read_csv(\"insurance.csv\")"
   ]
  },
  {
   "cell_type": "markdown",
   "metadata": {
    "id": "HFIvKnL6Hk21"
   },
   "source": [
    "## 2- Keşifsel Veri Analizi"
   ]
  },
  {
   "cell_type": "code",
   "execution_count": 3,
   "metadata": {
    "colab": {
     "base_uri": "https://localhost:8080/",
     "height": 206
    },
    "id": "tZ8Uy6mxGewz",
    "outputId": "21edc78d-63be-4895-80d4-98ff639fc447"
   },
   "outputs": [
    {
     "data": {
      "text/html": [
       "\n",
       "  <div id=\"df-56621306-7bc8-4c30-81e6-dff5d8287c40\">\n",
       "    <div class=\"colab-df-container\">\n",
       "      <div>\n",
       "<style scoped>\n",
       "    .dataframe tbody tr th:only-of-type {\n",
       "        vertical-align: middle;\n",
       "    }\n",
       "\n",
       "    .dataframe tbody tr th {\n",
       "        vertical-align: top;\n",
       "    }\n",
       "\n",
       "    .dataframe thead th {\n",
       "        text-align: right;\n",
       "    }\n",
       "</style>\n",
       "<table border=\"1\" class=\"dataframe\">\n",
       "  <thead>\n",
       "    <tr style=\"text-align: right;\">\n",
       "      <th></th>\n",
       "      <th>age</th>\n",
       "      <th>sex</th>\n",
       "      <th>bmi</th>\n",
       "      <th>children</th>\n",
       "      <th>smoker</th>\n",
       "      <th>region</th>\n",
       "      <th>charges</th>\n",
       "    </tr>\n",
       "  </thead>\n",
       "  <tbody>\n",
       "    <tr>\n",
       "      <th>0</th>\n",
       "      <td>19</td>\n",
       "      <td>female</td>\n",
       "      <td>27.900</td>\n",
       "      <td>0</td>\n",
       "      <td>yes</td>\n",
       "      <td>southwest</td>\n",
       "      <td>16884.92400</td>\n",
       "    </tr>\n",
       "    <tr>\n",
       "      <th>1</th>\n",
       "      <td>18</td>\n",
       "      <td>male</td>\n",
       "      <td>33.770</td>\n",
       "      <td>1</td>\n",
       "      <td>no</td>\n",
       "      <td>southeast</td>\n",
       "      <td>1725.55230</td>\n",
       "    </tr>\n",
       "    <tr>\n",
       "      <th>2</th>\n",
       "      <td>28</td>\n",
       "      <td>male</td>\n",
       "      <td>33.000</td>\n",
       "      <td>3</td>\n",
       "      <td>no</td>\n",
       "      <td>southeast</td>\n",
       "      <td>4449.46200</td>\n",
       "    </tr>\n",
       "    <tr>\n",
       "      <th>3</th>\n",
       "      <td>33</td>\n",
       "      <td>male</td>\n",
       "      <td>22.705</td>\n",
       "      <td>0</td>\n",
       "      <td>no</td>\n",
       "      <td>northwest</td>\n",
       "      <td>21984.47061</td>\n",
       "    </tr>\n",
       "    <tr>\n",
       "      <th>4</th>\n",
       "      <td>32</td>\n",
       "      <td>male</td>\n",
       "      <td>28.880</td>\n",
       "      <td>0</td>\n",
       "      <td>no</td>\n",
       "      <td>northwest</td>\n",
       "      <td>3866.85520</td>\n",
       "    </tr>\n",
       "  </tbody>\n",
       "</table>\n",
       "</div>\n",
       "      <button class=\"colab-df-convert\" onclick=\"convertToInteractive('df-56621306-7bc8-4c30-81e6-dff5d8287c40')\"\n",
       "              title=\"Convert this dataframe to an interactive table.\"\n",
       "              style=\"display:none;\">\n",
       "        \n",
       "  <svg xmlns=\"http://www.w3.org/2000/svg\" height=\"24px\"viewBox=\"0 0 24 24\"\n",
       "       width=\"24px\">\n",
       "    <path d=\"M0 0h24v24H0V0z\" fill=\"none\"/>\n",
       "    <path d=\"M18.56 5.44l.94 2.06.94-2.06 2.06-.94-2.06-.94-.94-2.06-.94 2.06-2.06.94zm-11 1L8.5 8.5l.94-2.06 2.06-.94-2.06-.94L8.5 2.5l-.94 2.06-2.06.94zm10 10l.94 2.06.94-2.06 2.06-.94-2.06-.94-.94-2.06-.94 2.06-2.06.94z\"/><path d=\"M17.41 7.96l-1.37-1.37c-.4-.4-.92-.59-1.43-.59-.52 0-1.04.2-1.43.59L10.3 9.45l-7.72 7.72c-.78.78-.78 2.05 0 2.83L4 21.41c.39.39.9.59 1.41.59.51 0 1.02-.2 1.41-.59l7.78-7.78 2.81-2.81c.8-.78.8-2.07 0-2.86zM5.41 20L4 18.59l7.72-7.72 1.47 1.35L5.41 20z\"/>\n",
       "  </svg>\n",
       "      </button>\n",
       "      \n",
       "  <style>\n",
       "    .colab-df-container {\n",
       "      display:flex;\n",
       "      flex-wrap:wrap;\n",
       "      gap: 12px;\n",
       "    }\n",
       "\n",
       "    .colab-df-convert {\n",
       "      background-color: #E8F0FE;\n",
       "      border: none;\n",
       "      border-radius: 50%;\n",
       "      cursor: pointer;\n",
       "      display: none;\n",
       "      fill: #1967D2;\n",
       "      height: 32px;\n",
       "      padding: 0 0 0 0;\n",
       "      width: 32px;\n",
       "    }\n",
       "\n",
       "    .colab-df-convert:hover {\n",
       "      background-color: #E2EBFA;\n",
       "      box-shadow: 0px 1px 2px rgba(60, 64, 67, 0.3), 0px 1px 3px 1px rgba(60, 64, 67, 0.15);\n",
       "      fill: #174EA6;\n",
       "    }\n",
       "\n",
       "    [theme=dark] .colab-df-convert {\n",
       "      background-color: #3B4455;\n",
       "      fill: #D2E3FC;\n",
       "    }\n",
       "\n",
       "    [theme=dark] .colab-df-convert:hover {\n",
       "      background-color: #434B5C;\n",
       "      box-shadow: 0px 1px 3px 1px rgba(0, 0, 0, 0.15);\n",
       "      filter: drop-shadow(0px 1px 2px rgba(0, 0, 0, 0.3));\n",
       "      fill: #FFFFFF;\n",
       "    }\n",
       "  </style>\n",
       "\n",
       "      <script>\n",
       "        const buttonEl =\n",
       "          document.querySelector('#df-56621306-7bc8-4c30-81e6-dff5d8287c40 button.colab-df-convert');\n",
       "        buttonEl.style.display =\n",
       "          google.colab.kernel.accessAllowed ? 'block' : 'none';\n",
       "\n",
       "        async function convertToInteractive(key) {\n",
       "          const element = document.querySelector('#df-56621306-7bc8-4c30-81e6-dff5d8287c40');\n",
       "          const dataTable =\n",
       "            await google.colab.kernel.invokeFunction('convertToInteractive',\n",
       "                                                     [key], {});\n",
       "          if (!dataTable) return;\n",
       "\n",
       "          const docLinkHtml = 'Like what you see? Visit the ' +\n",
       "            '<a target=\"_blank\" href=https://colab.research.google.com/notebooks/data_table.ipynb>data table notebook</a>'\n",
       "            + ' to learn more about interactive tables.';\n",
       "          element.innerHTML = '';\n",
       "          dataTable['output_type'] = 'display_data';\n",
       "          await google.colab.output.renderOutput(dataTable, element);\n",
       "          const docLink = document.createElement('div');\n",
       "          docLink.innerHTML = docLinkHtml;\n",
       "          element.appendChild(docLink);\n",
       "        }\n",
       "      </script>\n",
       "    </div>\n",
       "  </div>\n",
       "  "
      ],
      "text/plain": [
       "   age     sex     bmi  children smoker     region      charges\n",
       "0   19  female  27.900         0    yes  southwest  16884.92400\n",
       "1   18    male  33.770         1     no  southeast   1725.55230\n",
       "2   28    male  33.000         3     no  southeast   4449.46200\n",
       "3   33    male  22.705         0     no  northwest  21984.47061\n",
       "4   32    male  28.880         0     no  northwest   3866.85520"
      ]
     },
     "execution_count": 3,
     "metadata": {},
     "output_type": "execute_result"
    }
   ],
   "source": [
    "#verinin 5 satırını görüntüle\n",
    "data.head(5)"
   ]
  },
  {
   "cell_type": "code",
   "execution_count": 4,
   "metadata": {
    "colab": {
     "base_uri": "https://localhost:8080/"
    },
    "id": "IMjrsDRWIXD9",
    "outputId": "08ca1e42-9ac1-4d07-e638-81685219ebd1"
   },
   "outputs": [
    {
     "name": "stdout",
     "output_type": "stream",
     "text": [
      "Insurance veri setinde 1338 tane örnek data ve 7 özellik bulunuyor.\n"
     ]
    }
   ],
   "source": [
    "print(f\"Insurance veri setinde {data.shape[0]} tane örnek data ve {data.shape[1]} özellik bulunuyor.\")"
   ]
  },
  {
   "cell_type": "code",
   "execution_count": 5,
   "metadata": {
    "colab": {
     "base_uri": "https://localhost:8080/"
    },
    "id": "SxsN-g8hIob2",
    "outputId": "bc9f7b97-ea53-4ef1-e9f5-50ef79284834"
   },
   "outputs": [
    {
     "name": "stdout",
     "output_type": "stream",
     "text": [
      "Insurance veri setinde özellikler: ['age', 'sex', 'bmi', 'children', 'smoker', 'region', 'charges']\n"
     ]
    }
   ],
   "source": [
    "print(f\"Insurance veri setinde özellikler: {list(data.columns)}\")"
   ]
  },
  {
   "cell_type": "code",
   "execution_count": 6,
   "metadata": {
    "colab": {
     "base_uri": "https://localhost:8080/"
    },
    "id": "eZlei6i1V36-",
    "outputId": "37dd3524-c63a-4ee5-fcf5-f610bfcf010a"
   },
   "outputs": [
    {
     "name": "stdout",
     "output_type": "stream",
     "text": [
      "<class 'pandas.core.frame.DataFrame'>\n",
      "RangeIndex: 1338 entries, 0 to 1337\n",
      "Data columns (total 7 columns):\n",
      " #   Column    Non-Null Count  Dtype  \n",
      "---  ------    --------------  -----  \n",
      " 0   age       1338 non-null   int64  \n",
      " 1   sex       1338 non-null   object \n",
      " 2   bmi       1338 non-null   float64\n",
      " 3   children  1338 non-null   int64  \n",
      " 4   smoker    1338 non-null   object \n",
      " 5   region    1338 non-null   object \n",
      " 6   charges   1338 non-null   float64\n",
      "dtypes: float64(2), int64(2), object(3)\n",
      "memory usage: 73.3+ KB\n"
     ]
    }
   ],
   "source": [
    "#Eksik veri bulunmuyor\n",
    "data.info()"
   ]
  },
  {
   "cell_type": "code",
   "execution_count": 7,
   "metadata": {
    "colab": {
     "base_uri": "https://localhost:8080/"
    },
    "id": "a-JrN9ABV8qA",
    "outputId": "3c02a7f7-f9f3-4a20-8bfa-1cb58d569ad9"
   },
   "outputs": [
    {
     "data": {
      "text/plain": [
       "age         0\n",
       "sex         0\n",
       "bmi         0\n",
       "children    0\n",
       "smoker      0\n",
       "region      0\n",
       "charges     0\n",
       "dtype: int64"
      ]
     },
     "execution_count": 7,
     "metadata": {},
     "output_type": "execute_result"
    }
   ],
   "source": [
    "data.isnull().sum()"
   ]
  },
  {
   "cell_type": "code",
   "execution_count": 6,
   "metadata": {
    "colab": {
     "base_uri": "https://localhost:8080/",
     "height": 373
    },
    "id": "dN0onVANKUlG",
    "outputId": "dc00a225-1904-43ac-81c8-ab9496eb2c03"
   },
   "outputs": [
    {
     "data": {
      "image/png": "[encoded data removed]",
      "text/plain": [
       "<Figure size 1440x720 with 7 Axes>"
      ]
     },
     "metadata": {
      "needs_background": "light"
     },
     "output_type": "display_data"
    }
   ],
   "source": [
    "plt.figure(figsize=(20,10))\n",
    "for c in range(1,len(data.columns)+1):\n",
    "  plt.subplot(3,3,c)\n",
    "  sns.histplot(data.iloc[:,c-1])\n",
    "  plt.title(data.columns[c-1] +  \" dağılımı\")\n",
    "  plt.ylabel(\"Toplam Müşteri Sayısı\")\n",
    "plt.tight_layout()\n",
    "plt.show()\n"
   ]
  },
  {
   "cell_type": "markdown",
   "metadata": {
    "id": "EGX409IyKB-S"
   },
   "source": [
    "Yukarıdaki histogram grafiklerini aşağıdaki gibi yorumlayabiliriz:\n",
    "\n",
    "1.   bmi dağılımı normal dağılıma benzer, ortalamadan büyük değerler göze çarpsa da grafiğin geneli normal dağılımı vermektedir, charges ise right-skew'dır yani büyük değere sahip outlier, ayrık değerler bulunmaktadır\n",
    "2.   smoker dağılımı, imbalanced yani dengesizdir, sigara içmeyenler çoğunluktadır, cinsiyet ise dengeli bir dağılıma sahiptir.\n",
    "3.   children dağılımda ise hiç çocuğa sahip olmayan veya 1 çocuğa sahip olanların verinin çoğunlupunu oluşturduğu görülmektedir.\n",
    "\n"
   ]
  },
  {
   "cell_type": "code",
   "execution_count": 9,
   "metadata": {
    "colab": {
     "base_uri": "https://localhost:8080/",
     "height": 354
    },
    "id": "_oxzbLw0YvPb",
    "outputId": "1650128f-8271-44f5-aa51-f7207381bf9c"
   },
   "outputs": [
    {
     "data": {
      "image/png": "[encoded data removed]",
      "text/plain": [
       "<Figure size 1080x360 with 4 Axes>"
      ]
     },
     "metadata": {
      "needs_background": "light"
     },
     "output_type": "display_data"
    }
   ],
   "source": [
    "fig,ax = plt.subplots(1,4,figsize=(15,5),squeeze=False)\n",
    "sns.boxplot(data=data, y = data.age,ax=ax[0,0])\n",
    "sns.boxplot(data=data, y = data.charges,ax=ax[0,1])\n",
    "sns.boxplot(data=data, y = data.bmi,ax=ax[0,2])\n",
    "sns.boxplot(data=data, y = data.children,ax=ax[0,3])\n",
    "plt.tight_layout()\n",
    "plt.show()"
   ]
  },
  {
   "cell_type": "markdown",
   "metadata": {
    "id": "hSZReNqmZvOM"
   },
   "source": [
    "Yukarıdaki boxplot grafiklerini aşağıdaki gibi yorumlayabiliriz:\n",
    "\n",
    "Histogramda görüldüğü gibi charges ve bmi da büyük ayrık değerler göze çarpmaktadır. "
   ]
  },
  {
   "cell_type": "code",
   "execution_count": 10,
   "metadata": {
    "colab": {
     "base_uri": "https://localhost:8080/",
     "height": 607
    },
    "id": "npcsqygwMfD4",
    "outputId": "ee506e1c-eaa3-4d00-99a2-54107e93f708"
   },
   "outputs": [
    {
     "data": {
      "image/png": "[encoded data removed]",
      "text/plain": [
       "<Figure size 1080x720 with 2 Axes>"
      ]
     },
     "metadata": {
      "needs_background": "light"
     },
     "output_type": "display_data"
    }
   ],
   "source": [
    "plt.figure(figsize=(15,10))\n",
    "plt.title(\"Koralasyon HeatMap Grafiği\")\n",
    "sns.heatmap(data.corr(),annot=True,square=True)\n",
    "plt.show()"
   ]
  },
  {
   "cell_type": "markdown",
   "metadata": {
    "id": "CrHd0lKfOM2t"
   },
   "source": [
    "Yukarıdaki korelasyon heatmap grafiğinden özellikler arasındaki ilişkiler aşağıdaki gibi yorumlayabiliriz:\n",
    "\n",
    "Yukarıda değerlendirilen özellikler arasına çok güçlü bir korelasyon bulunmamaktadır."
   ]
  },
  {
   "cell_type": "code",
   "execution_count": 9,
   "metadata": {
    "colab": {
     "base_uri": "https://localhost:8080/",
     "height": 238
    },
    "id": "HUR8oNIIaeyP",
    "outputId": "ed0c1fbc-3696-4658-f5a5-fdb679ef391b"
   },
   "outputs": [
    {
     "name": "stderr",
     "output_type": "stream",
     "text": [
      "C:\\Users\\SAMSUNG\\AppData\\Local\\Temp\\ipykernel_3632\\2979220966.py:2: FutureWarning: ['sex', 'smoker'] did not aggregate successfully. If any error is raised this will raise in a future version of pandas. Drop these columns/ops to avoid this warning.\n",
      "  data.groupby(\"region\").agg([\"sum\",\"mean\",\"count\"])\n"
     ]
    },
    {
     "data": {
      "text/html": [
       "<div>\n",
       "<style scoped>\n",
       "    .dataframe tbody tr th:only-of-type {\n",
       "        vertical-align: middle;\n",
       "    }\n",
       "\n",
       "    .dataframe tbody tr th {\n",
       "        vertical-align: top;\n",
       "    }\n",
       "\n",
       "    .dataframe thead tr th {\n",
       "        text-align: left;\n",
       "    }\n",
       "\n",
       "    .dataframe thead tr:last-of-type th {\n",
       "        text-align: right;\n",
       "    }\n",
       "</style>\n",
       "<table border=\"1\" class=\"dataframe\">\n",
       "  <thead>\n",
       "    <tr>\n",
       "      <th></th>\n",
       "      <th colspan=\"3\" halign=\"left\">age</th>\n",
       "      <th colspan=\"3\" halign=\"left\">bmi</th>\n",
       "      <th colspan=\"3\" halign=\"left\">children</th>\n",
       "      <th colspan=\"3\" halign=\"left\">charges</th>\n",
       "    </tr>\n",
       "    <tr>\n",
       "      <th></th>\n",
       "      <th>sum</th>\n",
       "      <th>mean</th>\n",
       "      <th>count</th>\n",
       "      <th>sum</th>\n",
       "      <th>mean</th>\n",
       "      <th>count</th>\n",
       "      <th>sum</th>\n",
       "      <th>mean</th>\n",
       "      <th>count</th>\n",
       "      <th>sum</th>\n",
       "      <th>mean</th>\n",
       "      <th>count</th>\n",
       "    </tr>\n",
       "    <tr>\n",
       "      <th>region</th>\n",
       "      <th></th>\n",
       "      <th></th>\n",
       "      <th></th>\n",
       "      <th></th>\n",
       "      <th></th>\n",
       "      <th></th>\n",
       "      <th></th>\n",
       "      <th></th>\n",
       "      <th></th>\n",
       "      <th></th>\n",
       "      <th></th>\n",
       "      <th></th>\n",
       "    </tr>\n",
       "  </thead>\n",
       "  <tbody>\n",
       "    <tr>\n",
       "      <th>northeast</th>\n",
       "      <td>12723</td>\n",
       "      <td>39.268519</td>\n",
       "      <td>324</td>\n",
       "      <td>9452.215</td>\n",
       "      <td>29.173503</td>\n",
       "      <td>324</td>\n",
       "      <td>339</td>\n",
       "      <td>1.046296</td>\n",
       "      <td>324</td>\n",
       "      <td>4.343669e+06</td>\n",
       "      <td>13406.384516</td>\n",
       "      <td>324</td>\n",
       "    </tr>\n",
       "    <tr>\n",
       "      <th>northwest</th>\n",
       "      <td>12739</td>\n",
       "      <td>39.196923</td>\n",
       "      <td>325</td>\n",
       "      <td>9489.930</td>\n",
       "      <td>29.199785</td>\n",
       "      <td>325</td>\n",
       "      <td>373</td>\n",
       "      <td>1.147692</td>\n",
       "      <td>325</td>\n",
       "      <td>4.035712e+06</td>\n",
       "      <td>12417.575374</td>\n",
       "      <td>325</td>\n",
       "    </tr>\n",
       "    <tr>\n",
       "      <th>southeast</th>\n",
       "      <td>14174</td>\n",
       "      <td>38.939560</td>\n",
       "      <td>364</td>\n",
       "      <td>12141.580</td>\n",
       "      <td>33.355989</td>\n",
       "      <td>364</td>\n",
       "      <td>382</td>\n",
       "      <td>1.049451</td>\n",
       "      <td>364</td>\n",
       "      <td>5.363690e+06</td>\n",
       "      <td>14735.411438</td>\n",
       "      <td>364</td>\n",
       "    </tr>\n",
       "    <tr>\n",
       "      <th>southwest</th>\n",
       "      <td>12823</td>\n",
       "      <td>39.455385</td>\n",
       "      <td>325</td>\n",
       "      <td>9943.900</td>\n",
       "      <td>30.596615</td>\n",
       "      <td>325</td>\n",
       "      <td>371</td>\n",
       "      <td>1.141538</td>\n",
       "      <td>325</td>\n",
       "      <td>4.012755e+06</td>\n",
       "      <td>12346.937377</td>\n",
       "      <td>325</td>\n",
       "    </tr>\n",
       "  </tbody>\n",
       "</table>\n",
       "</div>"
      ],
      "text/plain": [
       "             age                         bmi                  children  \\\n",
       "             sum       mean count        sum       mean count      sum   \n",
       "region                                                                   \n",
       "northeast  12723  39.268519   324   9452.215  29.173503   324      339   \n",
       "northwest  12739  39.196923   325   9489.930  29.199785   325      373   \n",
       "southeast  14174  38.939560   364  12141.580  33.355989   364      382   \n",
       "southwest  12823  39.455385   325   9943.900  30.596615   325      371   \n",
       "\n",
       "                                charges                      \n",
       "               mean count           sum          mean count  \n",
       "region                                                       \n",
       "northeast  1.046296   324  4.343669e+06  13406.384516   324  \n",
       "northwest  1.147692   325  4.035712e+06  12417.575374   325  \n",
       "southeast  1.049451   364  5.363690e+06  14735.411438   364  \n",
       "southwest  1.141538   325  4.012755e+06  12346.937377   325  "
      ]
     },
     "execution_count": 9,
     "metadata": {},
     "output_type": "execute_result"
    }
   ],
   "source": [
    "#region analizi\n",
    "data.groupby(\"region\").agg([\"sum\",\"mean\",\"count\"])"
   ]
  },
  {
   "cell_type": "markdown",
   "metadata": {},
   "source": [
    "Yukarıdaki tabloda yaş,bmi,children ve charges değerleri bölgelere göre gruplanmıştır, tablodan en çok cocuğa sahip olan bölgenin 382 ile southest olduğu görülüyor."
   ]
  },
  {
   "cell_type": "code",
   "execution_count": 12,
   "metadata": {
    "colab": {
     "base_uri": "https://localhost:8080/",
     "height": 358
    },
    "id": "b0TT87duPTC4",
    "outputId": "6db4a0ea-a118-40b4-806d-5dfb9879af08"
   },
   "outputs": [
    {
     "data": {
      "image/png": "[encoded data removed]",
      "text/plain": [
       "<Figure size 720x360 with 1 Axes>"
      ]
     },
     "metadata": {
      "needs_background": "light"
     },
     "output_type": "display_data"
    }
   ],
   "source": [
    "pd.crosstab(data.smoker,data.region).plot(kind=\"bar\",figsize=(10, 5),alpha=0.5)\n",
    "plt.title(\"Region-Smoker İlişkisi\")\n",
    "plt.show()"
   ]
  },
  {
   "cell_type": "code",
   "execution_count": 13,
   "metadata": {
    "colab": {
     "base_uri": "https://localhost:8080/",
     "height": 378
    },
    "id": "brI1RIz-SdPw",
    "outputId": "f0f174e6-cc90-4ef7-add0-5ee6b6e03a1c"
   },
   "outputs": [
    {
     "data": {
      "image/png": "[encoded data removed]",
      "text/plain": [
       "<Figure size 720x360 with 1 Axes>"
      ]
     },
     "metadata": {
      "needs_background": "light"
     },
     "output_type": "display_data"
    }
   ],
   "source": [
    "plt.figure(figsize=(10,5))\n",
    "plt.title(\"Region-Smoker İlişkisi\")\n",
    "data[data.smoker==\"yes\"][\"region\"].value_counts().plot(kind=\"bar\",color=\"r\",alpha=0.5,label=\"Smoker\")\n",
    "data[data.smoker==\"no\"][\"region\"].value_counts().plot(kind=\"bar\",color=\"b\",alpha=0.2,label=\"Non-Smoker\")\n",
    "plt.legend()\n",
    "plt.show()"
   ]
  },
  {
   "cell_type": "code",
   "execution_count": 14,
   "metadata": {
    "colab": {
     "base_uri": "https://localhost:8080/",
     "height": 358
    },
    "id": "cMR08socUeuD",
    "outputId": "227656f1-09de-4091-baa6-4051f08a4f71"
   },
   "outputs": [
    {
     "data": {
      "image/png": "[encoded data removed]",
      "text/plain": [
       "<Figure size 720x360 with 1 Axes>"
      ]
     },
     "metadata": {
      "needs_background": "light"
     },
     "output_type": "display_data"
    }
   ],
   "source": [
    "pd.crosstab(data.smoker,pd.cut(data[\"bmi\"],5)).plot(kind=\"bar\",figsize=(10, 5),alpha=0.5)\n",
    "plt.title(\"BMI-Smoker İlişkisi\")\n",
    "plt.show()"
   ]
  },
  {
   "cell_type": "markdown",
   "metadata": {},
   "source": [
    "southest bölgesinde daha fazla sigara içildiği gözlense de bölgeler arası gözle görülür büyük bir fark bulunmuyor."
   ]
  },
  {
   "cell_type": "code",
   "execution_count": 7,
   "metadata": {
    "colab": {
     "base_uri": "https://localhost:8080/",
     "height": 296
    },
    "id": "huL7B6FpYbCY",
    "outputId": "75074a16-8159-4837-8e08-1a1410aabe02"
   },
   "outputs": [
    {
     "data": {
      "text/plain": [
       "<AxesSubplot:xlabel='smoker', ylabel='bmi'>"
      ]
     },
     "execution_count": 7,
     "metadata": {},
     "output_type": "execute_result"
    },
    {
     "data": {
      "image/png": "[encoded data removed]",
      "text/plain": [
       "<Figure size 432x288 with 1 Axes>"
      ]
     },
     "metadata": {
      "needs_background": "light"
     },
     "output_type": "display_data"
    }
   ],
   "source": [
    "sns.boxplot(data=data, y = \"bmi\",x=\"smoker\")"
   ]
  },
  {
   "cell_type": "code",
   "execution_count": 8,
   "metadata": {
    "colab": {
     "base_uri": "https://localhost:8080/",
     "height": 411
    },
    "id": "WuoRy8vpUps_",
    "outputId": "b1307359-070b-4327-fa97-3ed37596029e",
    "scrolled": true
   },
   "outputs": [
    {
     "data": {
      "image/png": "[encoded data removed]",
      "text/plain": [
       "<Figure size 720x360 with 1 Axes>"
      ]
     },
     "metadata": {
      "needs_background": "light"
     },
     "output_type": "display_data"
    }
   ],
   "source": [
    "plt.figure(figsize=(10,5))\n",
    "plt.title(\"BMI-Smoker İlişkisi\")\n",
    "pd.cut(data[data.smoker==\"yes\"][\"bmi\"],5).value_counts().plot(kind=\"bar\",color=\"r\",alpha=0.5,label=\"Smoker\")\n",
    "pd.cut(data[data.smoker==\"no\"][\"bmi\"],5).value_counts().plot(kind=\"bar\",color=\"b\",alpha=0.2,label=\"Non-Smoker\")\n",
    "plt.legend()\n",
    "plt.show()"
   ]
  },
  {
   "cell_type": "markdown",
   "metadata": {},
   "source": [
    "BMI ve Smoker arasında grafiklerden bir ilişki çıkarılamamaktadır."
   ]
  },
  {
   "cell_type": "markdown",
   "metadata": {
    "id": "9rVfLt_ewesF"
   },
   "source": [
    "## 3- Veri Ön İşleme"
   ]
  },
  {
   "cell_type": "code",
   "execution_count": 17,
   "metadata": {
    "colab": {
     "base_uri": "https://localhost:8080/"
    },
    "id": "bO7yyiezw_uI",
    "outputId": "96efe0f1-ee54-43bb-8911-d48cdc6aabc1"
   },
   "outputs": [
    {
     "data": {
      "text/plain": [
       "age         0\n",
       "sex         0\n",
       "bmi         0\n",
       "children    0\n",
       "smoker      0\n",
       "region      0\n",
       "charges     0\n",
       "dtype: int64"
      ]
     },
     "execution_count": 17,
     "metadata": {},
     "output_type": "execute_result"
    }
   ],
   "source": [
    "#eksik veri olmadığını kontrol et\n",
    "data.isnull().sum()"
   ]
  },
  {
   "cell_type": "code",
   "execution_count": 18,
   "metadata": {
    "colab": {
     "base_uri": "https://localhost:8080/"
    },
    "id": "sjASoI2iw_8_",
    "outputId": "3cdfbdd4-9592-4052-dbc2-1245614b2468"
   },
   "outputs": [
    {
     "data": {
      "text/plain": [
       "1"
      ]
     },
     "execution_count": 18,
     "metadata": {},
     "output_type": "execute_result"
    }
   ],
   "source": [
    "#mükerrer veri olmadığını kontrol et, 1 tekrarlı veri bulunuyor, tekrarlı veriyi sil\n",
    "data.duplicated().sum()"
   ]
  },
  {
   "cell_type": "code",
   "execution_count": 19,
   "metadata": {
    "id": "_D3hGPlPxAAO"
   },
   "outputs": [],
   "source": [
    "#veri ön işleme işlemlerine başlamadan DataFrame'i kopyala, orjinal veri data DataFrame'inde kaalcaktır"
   ]
  },
  {
   "cell_type": "code",
   "execution_count": 20,
   "metadata": {
    "id": "a4-mCt8hxADV"
   },
   "outputs": [],
   "source": [
    "df = data.copy()"
   ]
  },
  {
   "cell_type": "code",
   "execution_count": 21,
   "metadata": {
    "id": "NtlMe3ACxqth"
   },
   "outputs": [],
   "source": [
    "df.drop_duplicates(ignore_index=True,inplace=True)"
   ]
  },
  {
   "cell_type": "code",
   "execution_count": 22,
   "metadata": {
    "colab": {
     "base_uri": "https://localhost:8080/"
    },
    "id": "lGGM2wY-xysf",
    "outputId": "580d4e88-052e-471c-9ad1-7a9a30d4b40d"
   },
   "outputs": [
    {
     "data": {
      "text/plain": [
       "0"
      ]
     },
     "execution_count": 22,
     "metadata": {},
     "output_type": "execute_result"
    }
   ],
   "source": [
    "#mükerrer veri çıkarıldı\n",
    "df.duplicated().sum()"
   ]
  },
  {
   "cell_type": "code",
   "execution_count": 23,
   "metadata": {
    "colab": {
     "base_uri": "https://localhost:8080/"
    },
    "id": "8cZoY1Dlx5CL",
    "outputId": "317ebe8e-c639-4ca9-8196-ca705600e0ff"
   },
   "outputs": [
    {
     "data": {
      "text/plain": [
       "Index(['sex', 'smoker', 'region'], dtype='object')"
      ]
     },
     "execution_count": 23,
     "metadata": {},
     "output_type": "execute_result"
    }
   ],
   "source": [
    "#kategorik özellikleri getir\n",
    "df.select_dtypes(\"object\").columns"
   ]
  },
  {
   "cell_type": "code",
   "execution_count": 24,
   "metadata": {
    "id": "H_iSs3IFyINt"
   },
   "outputs": [],
   "source": [
    "#'sex', 'smoker', 'region' özellikler kategorik değişkenlerdir"
   ]
  },
  {
   "cell_type": "code",
   "execution_count": 25,
   "metadata": {
    "colab": {
     "base_uri": "https://localhost:8080/"
    },
    "id": "l8x5TDH8yVbv",
    "outputId": "b4b52704-9979-4284-c240-1205414a3591"
   },
   "outputs": [
    {
     "data": {
      "text/plain": [
       "male      675\n",
       "female    662\n",
       "Name: sex, dtype: int64"
      ]
     },
     "execution_count": 25,
     "metadata": {},
     "output_type": "execute_result"
    }
   ],
   "source": [
    "#2 değer bulunuyor;male-female\n",
    "df.sex.value_counts()"
   ]
  },
  {
   "cell_type": "code",
   "execution_count": 26,
   "metadata": {
    "colab": {
     "base_uri": "https://localhost:8080/"
    },
    "id": "sx3_l-cCyZDZ",
    "outputId": "4b5bc7e0-bcff-4bbf-f62c-66e8b5c95b2b"
   },
   "outputs": [
    {
     "data": {
      "text/plain": [
       "no     1063\n",
       "yes     274\n",
       "Name: smoker, dtype: int64"
      ]
     },
     "execution_count": 26,
     "metadata": {},
     "output_type": "execute_result"
    }
   ],
   "source": [
    "#2 değer bulunuyor yes-no\n",
    "df.smoker.value_counts()"
   ]
  },
  {
   "cell_type": "code",
   "execution_count": 27,
   "metadata": {
    "colab": {
     "base_uri": "https://localhost:8080/"
    },
    "id": "r_SadX_GyZr6",
    "outputId": "5279f5c9-3525-4ed1-95c7-fc33946723c3"
   },
   "outputs": [
    {
     "data": {
      "text/plain": [
       "southeast    364\n",
       "southwest    325\n",
       "northwest    324\n",
       "northeast    324\n",
       "Name: region, dtype: int64"
      ]
     },
     "execution_count": 27,
     "metadata": {},
     "output_type": "execute_result"
    }
   ],
   "source": [
    "#4 değer bulunuyor\n",
    "df.region.value_counts()"
   ]
  },
  {
   "cell_type": "code",
   "execution_count": 28,
   "metadata": {
    "id": "yBp7plzxysnT"
   },
   "outputs": [],
   "source": [
    "#pandas kütüphanesindeki get_dummies metoduyla one-hot encoding yönetimi kullanıldı"
   ]
  },
  {
   "cell_type": "code",
   "execution_count": 29,
   "metadata": {
    "id": "0_90RT6BywJr"
   },
   "outputs": [],
   "source": [
    "df = pd.get_dummies(df,drop_first=True)"
   ]
  },
  {
   "cell_type": "code",
   "execution_count": 30,
   "metadata": {
    "colab": {
     "base_uri": "https://localhost:8080/",
     "height": 206
    },
    "id": "j8XG4l2mzCm-",
    "outputId": "e1ce8e17-7235-45e1-f931-bf80f60255d9"
   },
   "outputs": [
    {
     "data": {
      "text/html": [
       "\n",
       "  <div id=\"df-406f2acd-cfbb-43e6-9829-cfe2afb5f428\">\n",
       "    <div class=\"colab-df-container\">\n",
       "      <div>\n",
       "<style scoped>\n",
       "    .dataframe tbody tr th:only-of-type {\n",
       "        vertical-align: middle;\n",
       "    }\n",
       "\n",
       "    .dataframe tbody tr th {\n",
       "        vertical-align: top;\n",
       "    }\n",
       "\n",
       "    .dataframe thead th {\n",
       "        text-align: right;\n",
       "    }\n",
       "</style>\n",
       "<table border=\"1\" class=\"dataframe\">\n",
       "  <thead>\n",
       "    <tr style=\"text-align: right;\">\n",
       "      <th></th>\n",
       "      <th>age</th>\n",
       "      <th>bmi</th>\n",
       "      <th>children</th>\n",
       "      <th>charges</th>\n",
       "      <th>sex_male</th>\n",
       "      <th>smoker_yes</th>\n",
       "      <th>region_northwest</th>\n",
       "      <th>region_southeast</th>\n",
       "      <th>region_southwest</th>\n",
       "    </tr>\n",
       "  </thead>\n",
       "  <tbody>\n",
       "    <tr>\n",
       "      <th>0</th>\n",
       "      <td>19</td>\n",
       "      <td>27.900</td>\n",
       "      <td>0</td>\n",
       "      <td>16884.92400</td>\n",
       "      <td>0</td>\n",
       "      <td>1</td>\n",
       "      <td>0</td>\n",
       "      <td>0</td>\n",
       "      <td>1</td>\n",
       "    </tr>\n",
       "    <tr>\n",
       "      <th>1</th>\n",
       "      <td>18</td>\n",
       "      <td>33.770</td>\n",
       "      <td>1</td>\n",
       "      <td>1725.55230</td>\n",
       "      <td>1</td>\n",
       "      <td>0</td>\n",
       "      <td>0</td>\n",
       "      <td>1</td>\n",
       "      <td>0</td>\n",
       "    </tr>\n",
       "    <tr>\n",
       "      <th>2</th>\n",
       "      <td>28</td>\n",
       "      <td>33.000</td>\n",
       "      <td>3</td>\n",
       "      <td>4449.46200</td>\n",
       "      <td>1</td>\n",
       "      <td>0</td>\n",
       "      <td>0</td>\n",
       "      <td>1</td>\n",
       "      <td>0</td>\n",
       "    </tr>\n",
       "    <tr>\n",
       "      <th>3</th>\n",
       "      <td>33</td>\n",
       "      <td>22.705</td>\n",
       "      <td>0</td>\n",
       "      <td>21984.47061</td>\n",
       "      <td>1</td>\n",
       "      <td>0</td>\n",
       "      <td>1</td>\n",
       "      <td>0</td>\n",
       "      <td>0</td>\n",
       "    </tr>\n",
       "    <tr>\n",
       "      <th>4</th>\n",
       "      <td>32</td>\n",
       "      <td>28.880</td>\n",
       "      <td>0</td>\n",
       "      <td>3866.85520</td>\n",
       "      <td>1</td>\n",
       "      <td>0</td>\n",
       "      <td>1</td>\n",
       "      <td>0</td>\n",
       "      <td>0</td>\n",
       "    </tr>\n",
       "  </tbody>\n",
       "</table>\n",
       "</div>\n",
       "      <button class=\"colab-df-convert\" onclick=\"convertToInteractive('df-406f2acd-cfbb-43e6-9829-cfe2afb5f428')\"\n",
       "              title=\"Convert this dataframe to an interactive table.\"\n",
       "              style=\"display:none;\">\n",
       "        \n",
       "  <svg xmlns=\"http://www.w3.org/2000/svg\" height=\"24px\"viewBox=\"0 0 24 24\"\n",
       "       width=\"24px\">\n",
       "    <path d=\"M0 0h24v24H0V0z\" fill=\"none\"/>\n",
       "    <path d=\"M18.56 5.44l.94 2.06.94-2.06 2.06-.94-2.06-.94-.94-2.06-.94 2.06-2.06.94zm-11 1L8.5 8.5l.94-2.06 2.06-.94-2.06-.94L8.5 2.5l-.94 2.06-2.06.94zm10 10l.94 2.06.94-2.06 2.06-.94-2.06-.94-.94-2.06-.94 2.06-2.06.94z\"/><path d=\"M17.41 7.96l-1.37-1.37c-.4-.4-.92-.59-1.43-.59-.52 0-1.04.2-1.43.59L10.3 9.45l-7.72 7.72c-.78.78-.78 2.05 0 2.83L4 21.41c.39.39.9.59 1.41.59.51 0 1.02-.2 1.41-.59l7.78-7.78 2.81-2.81c.8-.78.8-2.07 0-2.86zM5.41 20L4 18.59l7.72-7.72 1.47 1.35L5.41 20z\"/>\n",
       "  </svg>\n",
       "      </button>\n",
       "      \n",
       "  <style>\n",
       "    .colab-df-container {\n",
       "      display:flex;\n",
       "      flex-wrap:wrap;\n",
       "      gap: 12px;\n",
       "    }\n",
       "\n",
       "    .colab-df-convert {\n",
       "      background-color: #E8F0FE;\n",
       "      border: none;\n",
       "      border-radius: 50%;\n",
       "      cursor: pointer;\n",
       "      display: none;\n",
       "      fill: #1967D2;\n",
       "      height: 32px;\n",
       "      padding: 0 0 0 0;\n",
       "      width: 32px;\n",
       "    }\n",
       "\n",
       "    .colab-df-convert:hover {\n",
       "      background-color: #E2EBFA;\n",
       "      box-shadow: 0px 1px 2px rgba(60, 64, 67, 0.3), 0px 1px 3px 1px rgba(60, 64, 67, 0.15);\n",
       "      fill: #174EA6;\n",
       "    }\n",
       "\n",
       "    [theme=dark] .colab-df-convert {\n",
       "      background-color: #3B4455;\n",
       "      fill: #D2E3FC;\n",
       "    }\n",
       "\n",
       "    [theme=dark] .colab-df-convert:hover {\n",
       "      background-color: #434B5C;\n",
       "      box-shadow: 0px 1px 3px 1px rgba(0, 0, 0, 0.15);\n",
       "      filter: drop-shadow(0px 1px 2px rgba(0, 0, 0, 0.3));\n",
       "      fill: #FFFFFF;\n",
       "    }\n",
       "  </style>\n",
       "\n",
       "      <script>\n",
       "        const buttonEl =\n",
       "          document.querySelector('#df-406f2acd-cfbb-43e6-9829-cfe2afb5f428 button.colab-df-convert');\n",
       "        buttonEl.style.display =\n",
       "          google.colab.kernel.accessAllowed ? 'block' : 'none';\n",
       "\n",
       "        async function convertToInteractive(key) {\n",
       "          const element = document.querySelector('#df-406f2acd-cfbb-43e6-9829-cfe2afb5f428');\n",
       "          const dataTable =\n",
       "            await google.colab.kernel.invokeFunction('convertToInteractive',\n",
       "                                                     [key], {});\n",
       "          if (!dataTable) return;\n",
       "\n",
       "          const docLinkHtml = 'Like what you see? Visit the ' +\n",
       "            '<a target=\"_blank\" href=https://colab.research.google.com/notebooks/data_table.ipynb>data table notebook</a>'\n",
       "            + ' to learn more about interactive tables.';\n",
       "          element.innerHTML = '';\n",
       "          dataTable['output_type'] = 'display_data';\n",
       "          await google.colab.output.renderOutput(dataTable, element);\n",
       "          const docLink = document.createElement('div');\n",
       "          docLink.innerHTML = docLinkHtml;\n",
       "          element.appendChild(docLink);\n",
       "        }\n",
       "      </script>\n",
       "    </div>\n",
       "  </div>\n",
       "  "
      ],
      "text/plain": [
       "   age     bmi  children      charges  sex_male  smoker_yes  region_northwest  \\\n",
       "0   19  27.900         0  16884.92400         0           1                 0   \n",
       "1   18  33.770         1   1725.55230         1           0                 0   \n",
       "2   28  33.000         3   4449.46200         1           0                 0   \n",
       "3   33  22.705         0  21984.47061         1           0                 1   \n",
       "4   32  28.880         0   3866.85520         1           0                 1   \n",
       "\n",
       "   region_southeast  region_southwest  \n",
       "0                 0                 1  \n",
       "1                 1                 0  \n",
       "2                 1                 0  \n",
       "3                 0                 0  \n",
       "4                 0                 0  "
      ]
     },
     "execution_count": 30,
     "metadata": {},
     "output_type": "execute_result"
    }
   ],
   "source": [
    "df.head()"
   ]
  },
  {
   "cell_type": "code",
   "execution_count": 31,
   "metadata": {
    "colab": {
     "base_uri": "https://localhost:8080/",
     "height": 685
    },
    "id": "PipmnxpTzLuS",
    "outputId": "bf034689-ae64-4b58-e45e-33a6f19fb348"
   },
   "outputs": [
    {
     "data": {
      "image/png": "[encoded data removed]",
      "text/plain": [
       "<Figure size 1080x720 with 2 Axes>"
      ]
     },
     "metadata": {
      "needs_background": "light"
     },
     "output_type": "display_data"
    }
   ],
   "source": [
    "#kategorik değişkenler nümerik değerlere dönüştürüldükten sonra tüm feature setiyle tekrar heatmap oluşturuldu\n",
    "plt.figure(figsize=(15,10))\n",
    "plt.title(\"Koralasyon HeatMap Grafiği\")\n",
    "sns.heatmap(df.corr(),annot=True,square=True)\n",
    "plt.show()"
   ]
  },
  {
   "cell_type": "markdown",
   "metadata": {
    "id": "i-eHynKLzbrx"
   },
   "source": [
    "Yukarıdaki grafikten açık bir şekilde smoker_yes-charges pozitif korelasyonu görünüyor. (0.79). "
   ]
  },
  {
   "cell_type": "code",
   "execution_count": 32,
   "metadata": {
    "id": "DYsZZ7LQX1tj"
   },
   "outputs": [],
   "source": [
    "X= df.drop([\"charges\"], axis=1)\n",
    "y = df.charges\n"
   ]
  },
  {
   "cell_type": "code",
   "execution_count": 33,
   "metadata": {
    "id": "e4_X6HR8Xs6d"
   },
   "outputs": [],
   "source": [
    "# veriyi train ve test olarak iki parçaya böl\n",
    "X_train, X_test, y_train, y_test = train_test_split(X,y,test_size=0.2,random_state=42)"
   ]
  },
  {
   "cell_type": "code",
   "execution_count": 34,
   "metadata": {
    "id": "sHFfTTxLYzMM"
   },
   "outputs": [],
   "source": [
    "#verileri normalize et\n",
    "scaler = StandardScaler()\n",
    "X_train_scaled = scaler.fit_transform(X_train)\n",
    "X_test_scaled = scaler.transform(X_test)"
   ]
  },
  {
   "cell_type": "markdown",
   "metadata": {
    "id": "lFurM0SwYmVW"
   },
   "source": [
    "## 4- Model Seçme"
   ]
  },
  {
   "cell_type": "code",
   "execution_count": 35,
   "metadata": {
    "id": "L0xywNIFeX4G"
   },
   "outputs": [],
   "source": [
    "#model cross-validation skorlarını tutmak için boş bir dictionary oluştur\n",
    "models = {\n",
    "    \"Linear Regression\":[],\n",
    "    \"Support Vector Regressor\":[],\n",
    "    \"Desicion Tree Regressor\":[],\n",
    "    \"Random Forest Regressor\" :[]\n",
    "}"
   ]
  },
  {
   "cell_type": "code",
   "execution_count": 36,
   "metadata": {
    "id": "1BR1sRkeZdyO"
   },
   "outputs": [],
   "source": [
    "#Linear Regression modelini oluştur ve Cross Validation R2 ve Negative MSE skorlarını ekle\n",
    "lr = LinearRegression()\n",
    "lr_r2 = cross_val_score(lr,X_train_scaled,y_train,cv=10).mean()\n",
    "lr_neg_ms = cross_val_score(lr,X_train_scaled,y_train,cv=10,scoring='neg_mean_squared_error').mean()"
   ]
  },
  {
   "cell_type": "code",
   "execution_count": 37,
   "metadata": {
    "id": "IBAgGjQ8fQXI"
   },
   "outputs": [],
   "source": [
    "models[\"Linear Regression\"]=[]\n",
    "models[\"Linear Regression\"].append(lr_r2)\n",
    "models[\"Linear Regression\"].append(lr_neg_ms)"
   ]
  },
  {
   "cell_type": "code",
   "execution_count": 38,
   "metadata": {
    "id": "RHOzwZ7abxIb"
   },
   "outputs": [],
   "source": [
    "#Support Vector Regression modelini oluştur ve Cross Validation R2 ve Negative MSE skorlarını ekle\n",
    "svr = SVR()\n",
    "svr_r2 = cross_val_score(svr,X_train_scaled,y_train,cv=10).mean()\n",
    "svr_neg_mse = cross_val_score(svr,X_train_scaled,y_train,cv=10,scoring='neg_mean_squared_error').mean()"
   ]
  },
  {
   "cell_type": "code",
   "execution_count": 39,
   "metadata": {
    "id": "bzG94p2cfghh"
   },
   "outputs": [],
   "source": [
    "models[\"Support Vector Regressor\"]=[]\n",
    "models[\"Support Vector Regressor\"].append(svr_r2)\n",
    "models[\"Support Vector Regressor\"].append(svr_neg_mse)"
   ]
  },
  {
   "cell_type": "code",
   "execution_count": 40,
   "metadata": {
    "id": "2udCdPCBa0Yn"
   },
   "outputs": [],
   "source": [
    "#Desicion Tree Regression modelini oluştur ve Cross Validation R2 ve Negative MSE skorlarını ekle\n",
    "dtr = DecisionTreeRegressor()\n",
    "dtr_R2 = cross_val_score(dtr,X_train_scaled,y_train,cv=10).mean()\n",
    "dtr_neg_mse = cross_val_score(dtr,X_train_scaled,y_train,cv=10,scoring='neg_mean_squared_error').mean()"
   ]
  },
  {
   "cell_type": "code",
   "execution_count": 41,
   "metadata": {
    "id": "_1PG7C1mgbne"
   },
   "outputs": [],
   "source": [
    "models[\"Desicion Tree Regressor\"]=[]\n",
    "models[\"Desicion Tree Regressor\"].append(dtr_R2)\n",
    "models[\"Desicion Tree Regressor\"].append(dtr_neg_mse)"
   ]
  },
  {
   "cell_type": "code",
   "execution_count": 42,
   "metadata": {
    "id": "7WEqQaUvaf3W"
   },
   "outputs": [],
   "source": [
    "#Random Forest Regression modelini oluştur ve Cross Validation R2 ve Negative MSE skorlarını ekle\n",
    "rfr = RandomForestRegressor()\n",
    "rf_R2 = cross_val_score(rfr,X_train_scaled,y_train,cv=10).mean()\n",
    "rf_neg_mse = cross_val_score(rfr,X_train_scaled,y_train,cv=10,scoring='neg_mean_squared_error').mean()"
   ]
  },
  {
   "cell_type": "code",
   "execution_count": 43,
   "metadata": {
    "id": "2_UzrUKDdQOi"
   },
   "outputs": [],
   "source": [
    "models[\"Random Forest Regressor\"]=[]\n",
    "models[\"Random Forest Regressor\"].append(rf_R2)\n",
    "models[\"Random Forest Regressor\"].append(rf_neg_mse)"
   ]
  },
  {
   "cell_type": "code",
   "execution_count": 44,
   "metadata": {
    "colab": {
     "base_uri": "https://localhost:8080/"
    },
    "id": "1olLN_yEhynn",
    "outputId": "227a62e2-6ff5-4e35-95a6-164d13608559"
   },
   "outputs": [
    {
     "data": {
      "text/plain": [
       "{'Linear Regression': [0.7227220469387354, -37606393.17851404],\n",
       " 'Support Vector Regressor': [-0.10074750814883408, -150215406.24455917],\n",
       " 'Desicion Tree Regressor': [0.6409849059442364, -46618219.91947498],\n",
       " 'Random Forest Regressor': [0.8171605151115806, -24755681.408253405]}"
      ]
     },
     "execution_count": 44,
     "metadata": {},
     "output_type": "execute_result"
    }
   ],
   "source": [
    "models"
   ]
  },
  {
   "cell_type": "code",
   "execution_count": 45,
   "metadata": {
    "colab": {
     "base_uri": "https://localhost:8080/",
     "height": 513
    },
    "id": "G2IZvErji9Cu",
    "outputId": "baafb7a1-11a2-4171-b645-bbcc48bdf3e3"
   },
   "outputs": [
    {
     "data": {
      "image/png": "[encoded data removed]",
      "text/plain": [
       "<Figure size 360x504 with 2 Axes>"
      ]
     },
     "metadata": {
      "needs_background": "light"
     },
     "output_type": "display_data"
    }
   ],
   "source": [
    "#Puanları barchart ile gözlemle\n",
    "X = models.keys()\n",
    "R2_Scores = [x[0] for x in list(models.values())]\n",
    "Neg_Mean_Scores = [x[1] for x in list(models.values())]\n",
    "\n",
    "\n",
    "fig, ax = plt.subplots(2,1,figsize=(5,7),squeeze=False,sharex=True)\n",
    "plt.title(\"Scores of Models\")\n",
    "ax[0,0].bar(X,R2_Scores, 0.4 ,color=\"r\", alpha=0.5)\n",
    "ax[1,0].bar(X,Neg_Mean_Scores,0.4  , alpha=0.5)\n",
    "\n",
    "ax[0,0].set_title('R2 Scores of Models')\n",
    "ax[1,0].set_title('Negative MSE Scores of Models')\n",
    "\n",
    "plt.xticks(rotation=90)\n",
    "fig.tight_layout()\n",
    "plt.show()"
   ]
  },
  {
   "cell_type": "markdown",
   "metadata": {
    "id": "Jv_bmgIPcghv"
   },
   "source": [
    "Ortalama çapraz doğrulama puanlarına göre, **RandomForestRegressor** maksimum R2 puanı ve maksimum negatif MSE puanı ile en iyi performans gösteren modeldir.\n",
    "\n",
    "**Support Vector Regrossor**, minimum R2 (negatif) ve ayrıca minimum negatif MSE puan ile en kötü modeldir."
   ]
  },
  {
   "cell_type": "markdown",
   "metadata": {
    "id": "tyxJlA1c7v48"
   },
   "source": [
    "## 6- Hiper-parametre Optimizasyonu"
   ]
  },
  {
   "cell_type": "markdown",
   "metadata": {
    "id": "A5MwMkfK8D-i"
   },
   "source": [
    "Bir önceki bölümde K-Fold Cross Validation ile Random Forest Regressor en iyi performans veren model olarak seçildi. Bu model default parametrelerle oluşturulmuştu.\n",
    "\n",
    "Bu bölümde Random Forest Regressor modelinin performansını artttırmak için en iyi model parametreleri Grid Search ile aranacaktır."
   ]
  },
  {
   "cell_type": "code",
   "execution_count": 54,
   "metadata": {
    "id": "YR-vgi9S7yE8"
   },
   "outputs": [],
   "source": [
    "rfr_base = RandomForestRegressor()\n",
    "\n"
   ]
  },
  {
   "cell_type": "code",
   "execution_count": 55,
   "metadata": {
    "id": "k9bGw2ll8z8I"
   },
   "outputs": [],
   "source": [
    "params = {\n",
    "    \"n_estimators\" : [10,100,200,500],\n",
    "    \"max_depth\" : [2,10,100],\n",
    "    \"ccp_alpha\" :[0,0.1],  \n",
    "}"
   ]
  },
  {
   "cell_type": "code",
   "execution_count": 56,
   "metadata": {
    "id": "0abFiiEl_GoU"
   },
   "outputs": [],
   "source": [
    "rfr_tuned = GridSearchCV(rfr_base, params)"
   ]
  },
  {
   "cell_type": "code",
   "execution_count": 57,
   "metadata": {
    "colab": {
     "base_uri": "https://localhost:8080/"
    },
    "id": "nwWxtpOQ_iH_",
    "outputId": "a76a57ae-5d22-4a5c-c638-78a49c4320c0"
   },
   "outputs": [
    {
     "data": {
      "text/plain": [
       "GridSearchCV(estimator=RandomForestRegressor(),\n",
       "             param_grid={'ccp_alpha': [0, 0.1], 'max_depth': [2, 10, 100],\n",
       "                         'n_estimators': [10, 100, 200, 500]})"
      ]
     },
     "execution_count": 57,
     "metadata": {},
     "output_type": "execute_result"
    }
   ],
   "source": [
    "rfr_tuned.fit(X_train_scaled,y_train)"
   ]
  },
  {
   "cell_type": "code",
   "execution_count": 58,
   "metadata": {
    "colab": {
     "base_uri": "https://localhost:8080/"
    },
    "id": "AJIwjd_8WAwk",
    "outputId": "9e642223-85a8-4061-f283-c515e2253754"
   },
   "outputs": [
    {
     "data": {
      "text/plain": [
       "{'ccp_alpha': 0, 'max_depth': 10, 'n_estimators': 500}"
      ]
     },
     "execution_count": 58,
     "metadata": {},
     "output_type": "execute_result"
    }
   ],
   "source": [
    "rfr_tuned.best_params_"
   ]
  },
  {
   "cell_type": "code",
   "execution_count": 61,
   "metadata": {
    "id": "krAr2aCKWlEb"
   },
   "outputs": [],
   "source": [
    "rfc_final = RandomForestRegressor(ccp_alpha= 0, max_depth= 10, n_estimators= 500)"
   ]
  },
  {
   "cell_type": "code",
   "execution_count": 62,
   "metadata": {
    "colab": {
     "base_uri": "https://localhost:8080/"
    },
    "id": "KPPpK22SWvDK",
    "outputId": "901ca2cb-1438-4d6d-ee9f-5716a0ca02b0"
   },
   "outputs": [
    {
     "data": {
      "text/plain": [
       "RandomForestRegressor(ccp_alpha=0, max_depth=10, n_estimators=500)"
      ]
     },
     "execution_count": 62,
     "metadata": {},
     "output_type": "execute_result"
    }
   ],
   "source": [
    "rfc_final.fit(X_train_scaled,y_train)"
   ]
  },
  {
   "cell_type": "markdown",
   "metadata": {
    "id": "vF-IuOOUWgsw"
   },
   "source": [
    "## 7- Modeli Değerlendirme"
   ]
  },
  {
   "cell_type": "code",
   "execution_count": 67,
   "metadata": {
    "id": "hxm46Z5MXANf"
   },
   "outputs": [],
   "source": [
    "from sklearn.metrics import r2_score"
   ]
  },
  {
   "cell_type": "code",
   "execution_count": 65,
   "metadata": {
    "id": "OTgubKc5XMXM"
   },
   "outputs": [],
   "source": [
    "y_pred = rfc_final.predict(X_test_scaled)"
   ]
  },
  {
   "cell_type": "code",
   "execution_count": 69,
   "metadata": {
    "colab": {
     "base_uri": "https://localhost:8080/"
    },
    "id": "s8YZDjicXRZj",
    "outputId": "44e71b80-9da9-4ec2-8a0f-14bd94a83c8e"
   },
   "outputs": [
    {
     "name": "stdout",
     "output_type": "stream",
     "text": [
      "R2 =  0.8829889262307157\n"
     ]
    }
   ],
   "source": [
    "print(\"R2 = \", r2_score(y_test,y_pred))"
   ]
  },
  {
   "cell_type": "markdown",
   "metadata": {
    "id": "rhzfUkh3YJTF"
   },
   "source": [
    "R2 1 e ne kadar yakın olursa, model o kadar anlamlı süreç üretmiş demektir. 0.88 datanın modele uyum sağladığını belirtmektedir."
   ]
  },
  {
   "cell_type": "code",
   "execution_count": 72,
   "metadata": {
    "colab": {
     "base_uri": "https://localhost:8080/"
    },
    "id": "QwLvgcY1Xbpc",
    "outputId": "cf15a922-fe5d-4353-d2ac-07c4239c8ade"
   },
   "outputs": [
    {
     "name": "stdout",
     "output_type": "stream",
     "text": [
      "Root Mean Squared Error =  4636.970386477189\n"
     ]
    }
   ],
   "source": [
    "print(\"Root Mean Squared Error = \", np.sqrt(mean_squared_error(y_test,y_pred)))"
   ]
  },
  {
   "cell_type": "markdown",
   "metadata": {
    "id": "lBYkC_5VYUHF"
   },
   "source": [
    "Root mean squared error ise tahmin edilen ile gerçek değerlerin farkının karelerinin toplamının kara köküdür. Bu değer değerlendirmek için y değerlerinin aralığını da bilmemiz gerekir."
   ]
  },
  {
   "cell_type": "code",
   "execution_count": 73,
   "metadata": {
    "colab": {
     "base_uri": "https://localhost:8080/"
    },
    "id": "MlUE-p3NX1r-",
    "outputId": "1d74cdaf-ab75-4da2-fbdc-9e208671b523"
   },
   "outputs": [
    {
     "data": {
      "text/plain": [
       "count     1337.000000\n",
       "mean     13279.121487\n",
       "std      12110.359656\n",
       "min       1121.873900\n",
       "25%       4746.344000\n",
       "50%       9386.161300\n",
       "75%      16657.717450\n",
       "max      63770.428010\n",
       "Name: charges, dtype: float64"
      ]
     },
     "execution_count": 73,
     "metadata": {},
     "output_type": "execute_result"
    }
   ],
   "source": [
    "y.describe()"
   ]
  },
  {
   "cell_type": "code",
   "execution_count": 75,
   "metadata": {
    "colab": {
     "base_uri": "https://localhost:8080/",
     "height": 350
    },
    "id": "mKzkrNx9Y2j-",
    "outputId": "0d1c8366-5424-46fc-d56a-437a1c89de12"
   },
   "outputs": [
    {
     "name": "stderr",
     "output_type": "stream",
     "text": [
      "/usr/local/lib/python3.7/dist-packages/seaborn/_decorators.py:43: FutureWarning: Pass the following variable as a keyword arg: x. From version 0.12, the only valid positional argument will be `data`, and passing other arguments without an explicit keyword will result in an error or misinterpretation.\n",
      "  FutureWarning\n"
     ]
    },
    {
     "data": {
      "image/png": "[encoded data removed]",
      "text/plain": [
       "<Figure size 432x288 with 1 Axes>"
      ]
     },
     "metadata": {
      "needs_background": "light"
     },
     "output_type": "display_data"
    }
   ],
   "source": [
    "plt.title(\"Charges(y)\")\n",
    "sns.boxplot(y)\n",
    "plt.show()"
   ]
  },
  {
   "cell_type": "markdown",
   "metadata": {
    "id": "sjDHLZHIYidH"
   },
   "source": [
    "4636.9 Hata oranı yukarıdaki değerler için fena değildir, ortalama 13279, standart sapması 12110 olan yukarıdaki dağılım için kabul edilebilir bir hata olabilir. "
   ]
  }
 ],
 "metadata": {
  "colab": {
   "collapsed_sections": [],
   "name": "AICamp_ Medikal Maliyet Analizi_v1.ipynb",
   "provenance": [],
   "toc_visible": true
  },
  "kernelspec": {
   "display_name": "Python 3 (ipykernel)",
   "language": "python",
   "name": "python3"
  },
  "language_info": {
   "codemirror_mode": {
    "name": "ipython",
    "version": 3
   },
   "file_extension": ".py",
   "mimetype": "text/x-python",
   "name": "python",
   "nbconvert_exporter": "python",
   "pygments_lexer": "ipython3",
   "version": "3.9.12"
  }
 },
 "nbformat": 4,
 "nbformat_minor": 1
}
