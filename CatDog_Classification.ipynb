{
 "cells": [
  {
   "cell_type": "markdown",
   "id": "bc695b82",
   "metadata": {},
   "source": [
    "# TRANSFER LEARNING"
   ]
  },
  {
   "cell_type": "markdown",
   "id": "5916a190",
   "metadata": {},
   "source": [
    "**Problem:** Classify cats and dogs images with deep learning using transfer learning"
   ]
  },
  {
   "cell_type": "markdown",
   "id": "65ca5421",
   "metadata": {},
   "source": [
    "**Data:** (https://www.microsoft.com/en-us/download/details.aspx?id=54765)"
   ]
  },
  {
   "cell_type": "markdown",
   "id": "9b176d74",
   "metadata": {},
   "source": [
    "## PART 1: PREPROCESSING"
   ]
  },
  {
   "cell_type": "code",
   "execution_count": null,
   "id": "9fdc8106",
   "metadata": {},
   "outputs": [],
   "source": [
    "import os\n",
    "import matplotlib.pyplot as plt\n",
    "import numpy as np"
   ]
  },
  {
   "cell_type": "code",
   "execution_count": 38,
   "id": "96202473",
   "metadata": {},
   "outputs": [
    {
     "name": "stdout",
     "output_type": "stream",
     "text": [
      "Collecting opencv-python\n",
      "  Downloading opencv_python-4.6.0.66-cp36-abi3-win_amd64.whl (35.6 MB)\n",
      "Requirement already satisfied: numpy>=1.17.3 in c:\\users\\samsung\\anaconda3\\lib\\site-packages (from opencv-python) (1.21.5)\n",
      "Installing collected packages: opencv-python\n",
      "Successfully installed opencv-python-4.6.0.66\n"
     ]
    }
   ],
   "source": [
    "#!pip install opencv-python"
   ]
  },
  {
   "cell_type": "code",
   "execution_count": 2,
   "id": "f79662d0",
   "metadata": {},
   "outputs": [],
   "source": [
    "import cv2 as cv"
   ]
  },
  {
   "cell_type": "code",
   "execution_count": 3,
   "id": "735ac9a6",
   "metadata": {},
   "outputs": [],
   "source": [
    "path_to_image = os.getcwd()+\"\\\\Cat\\\\10.jpg\""
   ]
  },
  {
   "cell_type": "code",
   "execution_count": 4,
   "id": "a58917cc",
   "metadata": {},
   "outputs": [],
   "source": [
    "img = cv.imread(path_to_image)"
   ]
  },
  {
   "cell_type": "code",
   "execution_count": 5,
   "id": "476f8e72",
   "metadata": {},
   "outputs": [],
   "source": [
    "def show_image(image):\n",
    "    cv.imshow(\"frame\",img)\n",
    "    cv.waitKey(0)\n",
    "    cv.destroyAllWindows()"
   ]
  },
  {
   "cell_type": "code",
   "execution_count": 6,
   "id": "650b842a",
   "metadata": {},
   "outputs": [
    {
     "data": {
      "text/plain": [
       "(268, 320, 3)"
      ]
     },
     "execution_count": 6,
     "metadata": {},
     "output_type": "execute_result"
    }
   ],
   "source": [
    "img.shape"
   ]
  },
  {
   "cell_type": "code",
   "execution_count": 9,
   "id": "7458d4e8",
   "metadata": {},
   "outputs": [],
   "source": [
    "show_image(img)"
   ]
  },
  {
   "cell_type": "code",
   "execution_count": 10,
   "id": "6c148394",
   "metadata": {},
   "outputs": [],
   "source": [
    "a = cv.resize(img,(128,128))"
   ]
  },
  {
   "cell_type": "code",
   "execution_count": 11,
   "id": "91f3ff87",
   "metadata": {},
   "outputs": [],
   "source": [
    "show_image(a)"
   ]
  },
  {
   "cell_type": "code",
   "execution_count": 12,
   "id": "875eaed1",
   "metadata": {},
   "outputs": [],
   "source": [
    "categories = [\"Cat\",\"Dog\"]"
   ]
  },
  {
   "cell_type": "code",
   "execution_count": 13,
   "id": "93f764aa",
   "metadata": {},
   "outputs": [],
   "source": [
    "path_to_dataset = os.getcwd()"
   ]
  },
  {
   "cell_type": "code",
   "execution_count": 24,
   "id": "ba2cf608",
   "metadata": {},
   "outputs": [
    {
     "name": "stdout",
     "output_type": "stream",
     "text": [
      "OpenCV(4.6.0) D:\\a\\opencv-python\\opencv-python\\opencv\\modules\\imgproc\\src\\resize.cpp:4052: error: (-215:Assertion failed) !ssize.empty() in function 'cv::resize'\n",
      "\n",
      "OpenCV(4.6.0) D:\\a\\opencv-python\\opencv-python\\opencv\\modules\\imgproc\\src\\resize.cpp:4052: error: (-215:Assertion failed) !ssize.empty() in function 'cv::resize'\n",
      "\n",
      "OpenCV(4.6.0) D:\\a\\opencv-python\\opencv-python\\opencv\\modules\\imgproc\\src\\resize.cpp:4052: error: (-215:Assertion failed) !ssize.empty() in function 'cv::resize'\n",
      "\n",
      "OpenCV(4.6.0) D:\\a\\opencv-python\\opencv-python\\opencv\\modules\\imgproc\\src\\resize.cpp:4052: error: (-215:Assertion failed) !ssize.empty() in function 'cv::resize'\n",
      "\n",
      "OpenCV(4.6.0) D:\\a\\opencv-python\\opencv-python\\opencv\\modules\\imgproc\\src\\resize.cpp:4052: error: (-215:Assertion failed) !ssize.empty() in function 'cv::resize'\n",
      "\n",
      "OpenCV(4.6.0) D:\\a\\opencv-python\\opencv-python\\opencv\\modules\\imgproc\\src\\resize.cpp:4052: error: (-215:Assertion failed) !ssize.empty() in function 'cv::resize'\n",
      "\n",
      "OpenCV(4.6.0) D:\\a\\opencv-python\\opencv-python\\opencv\\modules\\imgproc\\src\\resize.cpp:4052: error: (-215:Assertion failed) !ssize.empty() in function 'cv::resize'\n",
      "\n",
      "OpenCV(4.6.0) D:\\a\\opencv-python\\opencv-python\\opencv\\modules\\imgproc\\src\\resize.cpp:4052: error: (-215:Assertion failed) !ssize.empty() in function 'cv::resize'\n",
      "\n"
     ]
    }
   ],
   "source": [
    "images = []\n",
    "for category in categories:\n",
    "    max_image_number = 0\n",
    "    idx = categories.index(category)\n",
    "    for image in os.listdir(f\"{path_to_dataset}\\\\{category}\"):\n",
    "        if max_image_number == 1000:\n",
    "            break\n",
    "        path_to_image = f\"{path_to_dataset}\\\\{category}\\\\{image}\"\n",
    "        try:\n",
    "            img = cv.imread(path_to_image,cv.IMREAD_COLOR)\n",
    "            img = cv.resize(img,(128,128))\n",
    "            img = img/250   \n",
    "            images.append([idx,img])\n",
    "            max_image_number += 1\n",
    "        except Exception as e:\n",
    "            print(e)\n",
    "            pass"
   ]
  },
  {
   "cell_type": "code",
   "execution_count": 25,
   "id": "c2831c67",
   "metadata": {},
   "outputs": [
    {
     "data": {
      "text/plain": [
       "2000"
      ]
     },
     "execution_count": 25,
     "metadata": {},
     "output_type": "execute_result"
    }
   ],
   "source": [
    "len(images)"
   ]
  },
  {
   "cell_type": "code",
   "execution_count": 29,
   "id": "99659073",
   "metadata": {},
   "outputs": [
    {
     "name": "stderr",
     "output_type": "stream",
     "text": [
      "C:\\Users\\SAMSUNG\\AppData\\Local\\Temp\\ipykernel_2116\\4073890964.py:1: VisibleDeprecationWarning: Creating an ndarray from ragged nested sequences (which is a list-or-tuple of lists-or-tuples-or ndarrays with different lengths or shapes) is deprecated. If you meant to do this, you must specify 'dtype=object' when creating the ndarray.\n",
      "  np.array(images)[1:5]\n"
     ]
    },
    {
     "data": {
      "text/plain": [
       "array([[0, array([[[0.156, 0.172, 0.152],\n",
       "                   [0.168, 0.172, 0.156],\n",
       "                   [0.188, 0.172, 0.156],\n",
       "                   ...,\n",
       "                   [0.572, 0.636, 0.632],\n",
       "                   [0.684, 0.808, 0.82 ],\n",
       "                   [0.648, 0.8  , 0.808]],\n",
       "\n",
       "                  [[0.168, 0.184, 0.164],\n",
       "                   [0.172, 0.176, 0.16 ],\n",
       "                   [0.192, 0.172, 0.156],\n",
       "                   ...,\n",
       "                   [0.608, 0.66 , 0.656],\n",
       "                   [0.676, 0.792, 0.808],\n",
       "                   [0.636, 0.776, 0.796]],\n",
       "\n",
       "                  [[0.156, 0.172, 0.152],\n",
       "                   [0.148, 0.152, 0.136],\n",
       "                   [0.164, 0.148, 0.132],\n",
       "                   ...,\n",
       "                   [0.58 , 0.616, 0.62 ],\n",
       "                   [0.636, 0.732, 0.756],\n",
       "                   [0.676, 0.796, 0.824]],\n",
       "\n",
       "                  ...,\n",
       "\n",
       "                  [[0.092, 0.088, 0.096],\n",
       "                   [0.076, 0.072, 0.08 ],\n",
       "                   [0.072, 0.068, 0.076],\n",
       "                   ...,\n",
       "                   [0.132, 0.152, 0.216],\n",
       "                   [0.284, 0.308, 0.36 ],\n",
       "                   [0.088, 0.112, 0.156]],\n",
       "\n",
       "                  [[0.112, 0.108, 0.116],\n",
       "                   [0.08 , 0.076, 0.084],\n",
       "                   [0.08 , 0.076, 0.084],\n",
       "                   ...,\n",
       "                   [0.124, 0.144, 0.208],\n",
       "                   [0.108, 0.132, 0.184],\n",
       "                   [0.092, 0.12 , 0.164]],\n",
       "\n",
       "                  [[0.12 , 0.116, 0.124],\n",
       "                   [0.092, 0.088, 0.096],\n",
       "                   [0.088, 0.084, 0.092],\n",
       "                   ...,\n",
       "                   [0.16 , 0.188, 0.252],\n",
       "                   [0.108, 0.14 , 0.192],\n",
       "                   [0.088, 0.128, 0.168]]])],\n",
       "       [0, array([[[0.168, 0.14 , 0.12 ],\n",
       "                   [0.108, 0.072, 0.052],\n",
       "                   [0.172, 0.128, 0.112],\n",
       "                   ...,\n",
       "                   [0.644, 0.66 , 0.52 ],\n",
       "                   [0.636, 0.648, 0.52 ],\n",
       "                   [0.628, 0.636, 0.508]],\n",
       "\n",
       "                  [[0.204, 0.184, 0.152],\n",
       "                   [0.216, 0.188, 0.16 ],\n",
       "                   [0.228, 0.192, 0.164],\n",
       "                   ...,\n",
       "                   [0.644, 0.66 , 0.52 ],\n",
       "                   [0.636, 0.656, 0.528],\n",
       "                   [0.624, 0.64 , 0.512]],\n",
       "\n",
       "                  [[0.228, 0.22 , 0.18 ],\n",
       "                   [0.244, 0.236, 0.196],\n",
       "                   [0.252, 0.232, 0.196],\n",
       "                   ...,\n",
       "                   [0.64 , 0.664, 0.524],\n",
       "                   [0.636, 0.664, 0.532],\n",
       "                   [0.624, 0.648, 0.52 ]],\n",
       "\n",
       "                  ...,\n",
       "\n",
       "                  [[0.512, 0.684, 0.736],\n",
       "                   [0.476, 0.64 , 0.696],\n",
       "                   [0.464, 0.616, 0.672],\n",
       "                   ...,\n",
       "                   [0.   , 0.772, 0.772],\n",
       "                   [0.032, 0.764, 0.768],\n",
       "                   [0.064, 0.676, 0.7  ]],\n",
       "\n",
       "                  [[0.472, 0.648, 0.7  ],\n",
       "                   [0.436, 0.608, 0.66 ],\n",
       "                   [0.392, 0.556, 0.612],\n",
       "                   ...,\n",
       "                   [0.008, 0.776, 0.776],\n",
       "                   [0.028, 0.752, 0.76 ],\n",
       "                   [0.052, 0.652, 0.684]],\n",
       "\n",
       "                  [[0.408, 0.556, 0.616],\n",
       "                   [0.384, 0.556, 0.608],\n",
       "                   [0.404, 0.58 , 0.628],\n",
       "                   ...,\n",
       "                   [0.012, 0.772, 0.768],\n",
       "                   [0.016, 0.752, 0.756],\n",
       "                   [0.024, 0.668, 0.692]]])],\n",
       "       [0, array([[[0.876, 0.896, 0.888],\n",
       "                   [0.876, 0.896, 0.892],\n",
       "                   [0.872, 0.892, 0.888],\n",
       "                   ...,\n",
       "                   [0.992, 0.976, 0.972],\n",
       "                   [0.956, 0.944, 0.936],\n",
       "                   [1.   , 0.98 , 0.984]],\n",
       "\n",
       "                  [[0.864, 0.884, 0.876],\n",
       "                   [0.872, 0.892, 0.888],\n",
       "                   [0.876, 0.896, 0.892],\n",
       "                   ...,\n",
       "                   [0.984, 0.964, 0.96 ],\n",
       "                   [0.964, 0.948, 0.944],\n",
       "                   [0.976, 0.964, 0.948]],\n",
       "\n",
       "                  [[0.876, 0.896, 0.892],\n",
       "                   [0.872, 0.892, 0.888],\n",
       "                   [0.868, 0.888, 0.884],\n",
       "                   ...,\n",
       "                   [0.984, 0.968, 0.964],\n",
       "                   [0.984, 0.968, 0.964],\n",
       "                   [0.976, 0.964, 0.944]],\n",
       "\n",
       "                  ...,\n",
       "\n",
       "                  [[0.844, 0.828, 0.812],\n",
       "                   [0.836, 0.84 , 0.812],\n",
       "                   [0.808, 0.824, 0.8  ],\n",
       "                   ...,\n",
       "                   [0.832, 0.848, 0.852],\n",
       "                   [0.828, 0.848, 0.856],\n",
       "                   [0.836, 0.848, 0.864]],\n",
       "\n",
       "                  [[0.872, 0.848, 0.856],\n",
       "                   [0.848, 0.84 , 0.836],\n",
       "                   [0.812, 0.824, 0.816],\n",
       "                   ...,\n",
       "                   [0.832, 0.848, 0.852],\n",
       "                   [0.828, 0.848, 0.856],\n",
       "                   [0.836, 0.848, 0.864]],\n",
       "\n",
       "                  [[0.88 , 0.868, 0.836],\n",
       "                   [0.84 , 0.844, 0.82 ],\n",
       "                   [0.78 , 0.8  , 0.808],\n",
       "                   ...,\n",
       "                   [0.848, 0.848, 0.856],\n",
       "                   [0.828, 0.848, 0.856],\n",
       "                   [0.844, 0.848, 0.864]]])],\n",
       "       [0, array([[[0.28 , 0.428, 0.532],\n",
       "                   [0.284, 0.44 , 0.552],\n",
       "                   [0.3  , 0.464, 0.58 ],\n",
       "                   ...,\n",
       "                   [0.136, 0.22 , 0.364],\n",
       "                   [0.268, 0.332, 0.428],\n",
       "                   [0.184, 0.228, 0.316]],\n",
       "\n",
       "                  [[0.268, 0.428, 0.532],\n",
       "                   [0.28 , 0.44 , 0.552],\n",
       "                   [0.292, 0.46 , 0.576],\n",
       "                   ...,\n",
       "                   [0.148, 0.244, 0.412],\n",
       "                   [0.272, 0.34 , 0.456],\n",
       "                   [0.152, 0.208, 0.296]],\n",
       "\n",
       "                  [[0.244, 0.408, 0.508],\n",
       "                   [0.256, 0.424, 0.528],\n",
       "                   [0.264, 0.44 , 0.544],\n",
       "                   ...,\n",
       "                   [0.172, 0.272, 0.476],\n",
       "                   [0.292, 0.368, 0.508],\n",
       "                   [0.08 , 0.14 , 0.24 ]],\n",
       "\n",
       "                  ...,\n",
       "\n",
       "                  [[0.284, 0.332, 0.34 ],\n",
       "                   [0.196, 0.252, 0.268],\n",
       "                   [0.172, 0.224, 0.256],\n",
       "                   ...,\n",
       "                   [0.216, 0.304, 0.344],\n",
       "                   [0.208, 0.3  , 0.336],\n",
       "                   [0.224, 0.328, 0.356]],\n",
       "\n",
       "                  [[0.216, 0.272, 0.292],\n",
       "                   [0.176, 0.232, 0.26 ],\n",
       "                   [0.164, 0.212, 0.26 ],\n",
       "                   ...,\n",
       "                   [0.272, 0.368, 0.412],\n",
       "                   [0.272, 0.36 , 0.4  ],\n",
       "                   [0.248, 0.34 , 0.38 ]],\n",
       "\n",
       "                  [[0.168, 0.224, 0.252],\n",
       "                   [0.16 , 0.208, 0.248],\n",
       "                   [0.164, 0.204, 0.252],\n",
       "                   ...,\n",
       "                   [0.26 , 0.372, 0.412],\n",
       "                   [0.236, 0.332, 0.372],\n",
       "                   [0.228, 0.316, 0.36 ]]])]], dtype=object)"
      ]
     },
     "execution_count": 29,
     "metadata": {},
     "output_type": "execute_result"
    }
   ],
   "source": [
    "np.array(images)[1:5]"
   ]
  },
  {
   "cell_type": "code",
   "execution_count": 30,
   "id": "8c15c813",
   "metadata": {},
   "outputs": [],
   "source": [
    "X = []\n",
    "y = []"
   ]
  },
  {
   "cell_type": "code",
   "execution_count": 31,
   "id": "8b032ab0",
   "metadata": {},
   "outputs": [],
   "source": [
    "y = [x[0] for x in images]"
   ]
  },
  {
   "cell_type": "code",
   "execution_count": 33,
   "id": "b07954b3",
   "metadata": {},
   "outputs": [],
   "source": [
    "X = [x[1] for x in images]"
   ]
  },
  {
   "cell_type": "code",
   "execution_count": 34,
   "id": "e9ebed72",
   "metadata": {},
   "outputs": [],
   "source": [
    "from sklearn.model_selection import train_test_split"
   ]
  },
  {
   "cell_type": "code",
   "execution_count": 39,
   "id": "58a40774",
   "metadata": {},
   "outputs": [],
   "source": [
    "X_train,X_test,y_train,y_test = train_test_split(X,y,test_size=0.2,random_state=0,shuffle=True)"
   ]
  },
  {
   "cell_type": "code",
   "execution_count": 40,
   "id": "50be6079",
   "metadata": {},
   "outputs": [],
   "source": [
    "X_val,X_test,y_val,y_test = train_test_split(X_test,y_test,test_size=0.5,random_state=0,shuffle=True)"
   ]
  },
  {
   "cell_type": "code",
   "execution_count": 42,
   "id": "53a64ff1",
   "metadata": {},
   "outputs": [
    {
     "data": {
      "text/plain": [
       "1600"
      ]
     },
     "execution_count": 42,
     "metadata": {},
     "output_type": "execute_result"
    }
   ],
   "source": [
    "len(X_train)"
   ]
  },
  {
   "cell_type": "code",
   "execution_count": 43,
   "id": "44c01991",
   "metadata": {},
   "outputs": [
    {
     "data": {
      "text/plain": [
       "200"
      ]
     },
     "execution_count": 43,
     "metadata": {},
     "output_type": "execute_result"
    }
   ],
   "source": [
    "len(X_val)"
   ]
  },
  {
   "cell_type": "code",
   "execution_count": 44,
   "id": "d677ed14",
   "metadata": {},
   "outputs": [
    {
     "data": {
      "text/plain": [
       "200"
      ]
     },
     "execution_count": 44,
     "metadata": {},
     "output_type": "execute_result"
    }
   ],
   "source": [
    "len(X_test)"
   ]
  },
  {
   "cell_type": "code",
   "execution_count": 46,
   "id": "c1274094",
   "metadata": {},
   "outputs": [
    {
     "data": {
      "text/plain": [
       "[0, 0, 1, 0]"
      ]
     },
     "execution_count": 46,
     "metadata": {},
     "output_type": "execute_result"
    }
   ],
   "source": [
    "y_train[0:4]"
   ]
  },
  {
   "cell_type": "code",
   "execution_count": 68,
   "id": "8829f9ac",
   "metadata": {},
   "outputs": [],
   "source": [
    "X_train = np.array(X_train)\n",
    "X_test = np.array(X_test)\n",
    "X_val = np.array(X_val)\n",
    "y_train = np.array(y_train)\n",
    "y_test = np.array(y_test)\n",
    "y_val = np.array(y_val)"
   ]
  },
  {
   "cell_type": "code",
   "execution_count": 47,
   "id": "19986111",
   "metadata": {},
   "outputs": [],
   "source": [
    "import pickle"
   ]
  },
  {
   "cell_type": "code",
   "execution_count": 49,
   "id": "b8b4a2e4",
   "metadata": {},
   "outputs": [],
   "source": [
    "with open('X_train.pickle', 'wb') as output:\n",
    "    pickle.dump(X_train,output)"
   ]
  },
  {
   "cell_type": "code",
   "execution_count": 50,
   "id": "154220ef",
   "metadata": {},
   "outputs": [],
   "source": [
    "with open('y_train.pickle', 'wb') as output:\n",
    "    pickle.dump(y_train,output)"
   ]
  },
  {
   "cell_type": "code",
   "execution_count": 51,
   "id": "f6336f5f",
   "metadata": {},
   "outputs": [],
   "source": [
    "with open('X_val.pickle', 'wb') as output:\n",
    "    pickle.dump(X_val,output)"
   ]
  },
  {
   "cell_type": "code",
   "execution_count": 52,
   "id": "8177c457",
   "metadata": {},
   "outputs": [],
   "source": [
    "with open('y_val.pickle', 'wb') as output:\n",
    "    pickle.dump(y_val,output)"
   ]
  },
  {
   "cell_type": "code",
   "execution_count": 53,
   "id": "71ea7241",
   "metadata": {},
   "outputs": [],
   "source": [
    "with open('X_test.pickle', 'wb') as output:\n",
    "    pickle.dump(X_test,output)"
   ]
  },
  {
   "cell_type": "code",
   "execution_count": 54,
   "id": "77834c20",
   "metadata": {},
   "outputs": [],
   "source": [
    "with open('y_test.pickle', 'wb') as output:\n",
    "    pickle.dump(y_test,output)"
   ]
  },
  {
   "cell_type": "markdown",
   "id": "745b527f",
   "metadata": {},
   "source": [
    "## PART 2: TRANSFER LEARNING"
   ]
  },
  {
   "cell_type": "code",
   "execution_count": 55,
   "id": "f39f4b92",
   "metadata": {},
   "outputs": [],
   "source": [
    "import numpy as np\n",
    "import pandas as pd\n",
    "import matplotlib.pyplot as plt\n",
    "\n",
    "import tensorflow as tf\n",
    "\n",
    "import os, shutil, pathlib"
   ]
  },
  {
   "cell_type": "code",
   "execution_count": 56,
   "id": "16a5e9de",
   "metadata": {},
   "outputs": [],
   "source": [
    "base_model = tf.keras.applications.mobilenet_v2.MobileNetV2(\n",
    "    include_top = False,\n",
    "    input_shape=(128,128,3),\n",
    "    weights='imagenet',\n",
    "    pooling=\"max\"\n",
    ")"
   ]
  },
  {
   "cell_type": "code",
   "execution_count": 57,
   "id": "a39c17f0",
   "metadata": {},
   "outputs": [],
   "source": [
    "for layer in base_model.layers:\n",
    "    layer.trainale = False"
   ]
  },
  {
   "cell_type": "code",
   "execution_count": 58,
   "id": "7fa34f10",
   "metadata": {},
   "outputs": [],
   "source": [
    "x = tf.keras.layers.Flatten()(base_model.output)\n",
    "x = tf.keras.layers.Dense(1024,activation=\"relu\")(x)\n",
    "x = tf.keras.layers.Dropout(0.5)(x)\n",
    "\n",
    "x = tf.keras.layers.Dense(1024,activation=\"relu\")(x)\n",
    "x = tf.keras.layers.Dropout(0.5)(x)\n",
    "\n",
    "x = tf.keras.layers.Dense(1024,activation=\"relu\")(x)\n",
    "x = tf.keras.layers.Dropout(0.5)(x)\n",
    "\n",
    "x = tf.keras.layers.Dense(1024,activation=\"relu\")(x)\n",
    "x = tf.keras.layers.Dropout(0.5)(x)\n",
    "\n",
    "x = tf.keras.layers.Dense(1024,activation=\"relu\")(x)\n",
    "x = tf.keras.layers.Dropout(0.5)(x)\n",
    "\n",
    "predictions = tf.keras.layers.Dense(1,activation=\"sigmoid\")(x)\n"
   ]
  },
  {
   "cell_type": "code",
   "execution_count": 59,
   "id": "9caf7862",
   "metadata": {},
   "outputs": [],
   "source": [
    "head_model = tf.keras.Model(inputs=base_model.inputs,outputs=predictions)"
   ]
  },
  {
   "cell_type": "code",
   "execution_count": 60,
   "id": "148e95be",
   "metadata": {},
   "outputs": [],
   "source": [
    "head_model.compile( optimizer=\"adam\",\n",
    "                    loss=\"binary_crossentropy\",\n",
    "                    metrics=[\"accuracy\"])"
   ]
  },
  {
   "cell_type": "code",
   "execution_count": 69,
   "id": "3cd56b28",
   "metadata": {
    "scrolled": true
   },
   "outputs": [
    {
     "name": "stdout",
     "output_type": "stream",
     "text": [
      "Epoch 1/10\n",
      "13/13 [==============================] - 304s 20s/step - loss: 0.1771 - accuracy: 0.9362 - val_loss: 1.1460 - val_accuracy: 0.6500\n",
      "Epoch 2/10\n",
      "13/13 [==============================] - 303s 24s/step - loss: 0.0917 - accuracy: 0.9644 - val_loss: 2.4972 - val_accuracy: 0.6250\n",
      "Epoch 3/10\n",
      "13/13 [==============================] - 247s 19s/step - loss: 0.0434 - accuracy: 0.9837 - val_loss: 2.0717 - val_accuracy: 0.6600\n",
      "Epoch 4/10\n",
      "13/13 [==============================] - 241s 18s/step - loss: 0.0189 - accuracy: 0.9931 - val_loss: 3.1558 - val_accuracy: 0.6350\n",
      "Epoch 5/10\n",
      "13/13 [==============================] - 248s 19s/step - loss: 0.0189 - accuracy: 0.9931 - val_loss: 3.8092 - val_accuracy: 0.6050\n",
      "Epoch 6/10\n",
      "13/13 [==============================] - 246s 19s/step - loss: 0.0128 - accuracy: 0.9962 - val_loss: 0.8419 - val_accuracy: 0.8350\n",
      "Epoch 7/10\n",
      "13/13 [==============================] - 259s 20s/step - loss: 0.0231 - accuracy: 0.9931 - val_loss: 0.9410 - val_accuracy: 0.7850\n",
      "Epoch 8/10\n",
      "13/13 [==============================] - 253s 20s/step - loss: 0.0181 - accuracy: 0.9950 - val_loss: 0.9913 - val_accuracy: 0.8250\n",
      "Epoch 9/10\n",
      "13/13 [==============================] - 221s 17s/step - loss: 0.0120 - accuracy: 0.9956 - val_loss: 1.1132 - val_accuracy: 0.8500\n",
      "Epoch 10/10\n",
      "13/13 [==============================] - 232s 17s/step - loss: 0.0101 - accuracy: 0.9975 - val_loss: 2.1728 - val_accuracy: 0.8100\n"
     ]
    }
   ],
   "source": [
    "history = head_model.fit(X_train,y_train,batch_size=128,epochs=10,validation_data=(X_val,y_val))"
   ]
  },
  {
   "cell_type": "code",
   "execution_count": 70,
   "id": "83845f97",
   "metadata": {},
   "outputs": [
    {
     "name": "stdout",
     "output_type": "stream",
     "text": [
      "7/7 [==============================] - 15s 519ms/step - loss: 2.2518 - accuracy: 0.8350\n"
     ]
    },
    {
     "data": {
      "text/plain": [
       "[2.2517752647399902, 0.8349999785423279]"
      ]
     },
     "execution_count": 70,
     "metadata": {},
     "output_type": "execute_result"
    }
   ],
   "source": [
    "head_model.evaluate(X_test,y_test)"
   ]
  },
  {
   "cell_type": "code",
   "execution_count": 71,
   "id": "7f7ef72b",
   "metadata": {},
   "outputs": [
    {
     "data": {
      "image/png": "[encoded data removed]",
      "text/plain": [
       "<Figure size 432x288 with 1 Axes>"
      ]
     },
     "metadata": {
      "needs_background": "light"
     },
     "output_type": "display_data"
    }
   ],
   "source": [
    "plt.plot(history.history[\"loss\"], label= \"Train\")\n",
    "plt.plot(history.history[\"val_loss\"], label= \"Validation\")\n",
    "\n",
    "\n",
    "plt.xlabel(\"Epochs\")\n",
    "plt.ylabel(\"loss\")\n",
    "          \n",
    "plt.legend()\n",
    "plt.show()"
   ]
  },
  {
   "cell_type": "code",
   "execution_count": 72,
   "id": "580b1c6b",
   "metadata": {},
   "outputs": [
    {
     "data": {
      "image/png": "[encoded data removed]",
      "text/plain": [
       "<Figure size 432x288 with 1 Axes>"
      ]
     },
     "metadata": {
      "needs_background": "light"
     },
     "output_type": "display_data"
    }
   ],
   "source": [
    "plt.plot(history.history[\"accuracy\"], label= \"Train\")\n",
    "plt.plot(history.history[\"val_accuracy\"], label= \"Validation\")\n",
    "\n",
    "\n",
    "plt.xlabel(\"Epochs\")\n",
    "plt.ylabel(\"Accuracy\")\n",
    "          \n",
    "plt.legend()\n",
    "plt.show()"
   ]
  },
  {
   "cell_type": "markdown",
   "id": "72e9c223",
   "metadata": {},
   "source": [
    "Future work is needed, model seems to overfit to train data.."
   ]
  },
  {
   "cell_type": "code",
   "execution_count": 73,
   "id": "fa221162",
   "metadata": {},
   "outputs": [
    {
     "name": "stderr",
     "output_type": "stream",
     "text": [
      "WARNING:absl:Found untraced functions such as _jit_compiled_convolution_op, _jit_compiled_convolution_op, _jit_compiled_convolution_op, _jit_compiled_convolution_op, _jit_compiled_convolution_op while saving (showing 5 of 52). These functions will not be directly callable after loading.\n"
     ]
    },
    {
     "name": "stdout",
     "output_type": "stream",
     "text": [
      "INFO:tensorflow:Assets written to: ram://4dc5b5ec-1a7a-4425-bacd-f2b481b5590c/assets\n"
     ]
    },
    {
     "name": "stderr",
     "output_type": "stream",
     "text": [
      "INFO:tensorflow:Assets written to: ram://4dc5b5ec-1a7a-4425-bacd-f2b481b5590c/assets\n"
     ]
    }
   ],
   "source": [
    "with open(\"model.pickle\", \"wb\") as f:\n",
    "    pickle.dump(head_model,f)"
   ]
  },
  {
   "cell_type": "code",
   "execution_count": 74,
   "id": "98d078d3",
   "metadata": {},
   "outputs": [
    {
     "name": "stderr",
     "output_type": "stream",
     "text": [
      "WARNING:absl:Found untraced functions such as _jit_compiled_convolution_op, _jit_compiled_convolution_op, _jit_compiled_convolution_op, _jit_compiled_convolution_op, _jit_compiled_convolution_op while saving (showing 5 of 52). These functions will not be directly callable after loading.\n"
     ]
    },
    {
     "name": "stdout",
     "output_type": "stream",
     "text": [
      "INFO:tensorflow:Assets written to: trained_model\\assets\n"
     ]
    },
    {
     "name": "stderr",
     "output_type": "stream",
     "text": [
      "INFO:tensorflow:Assets written to: trained_model\\assets\n"
     ]
    }
   ],
   "source": [
    "head_model.save(\"trained_model\")"
   ]
  }
 ],
 "metadata": {
  "kernelspec": {
   "display_name": "Python 3 (ipykernel)",
   "language": "python",
   "name": "python3"
  },
  "language_info": {
   "codemirror_mode": {
    "name": "ipython",
    "version": 3
   },
   "file_extension": ".py",
   "mimetype": "text/x-python",
   "name": "python",
   "nbconvert_exporter": "python",
   "pygments_lexer": "ipython3",
   "version": "3.9.12"
  }
 },
 "nbformat": 4,
 "nbformat_minor": 5
}
